{
 "cells": [
  {
   "cell_type": "markdown",
   "id": "0b58b414-b864-4e70-8b77-16d75de4b013",
   "metadata": {},
   "source": [
    "# Twitter Web Scraper by Lidor ES"
   ]
  },
  {
   "cell_type": "code",
   "execution_count": 88,
   "id": "d72bbaac-af0e-43f9-afca-863b4bfb73da",
   "metadata": {},
   "outputs": [],
   "source": [
    "import csv\n",
    "from time import sleep\n",
    "from selenium.webdriver.common.keys import Keys\n",
    "from selenium.common.exceptions import NoSuchElementException\n",
    "from selenium.webdriver import Chrome"
   ]
  },
  {
   "cell_type": "code",
   "execution_count": 89,
   "id": "85cb7e2d-eb4f-45e5-998c-9ec4848cc11c",
   "metadata": {},
   "outputs": [],
   "source": [
    "url = 'http://www.twitter.com/login'\n",
    "driver = Chrome()\n",
    "driver.get(url)"
   ]
  },
  {
   "cell_type": "code",
   "execution_count": 26,
   "id": "1d5f9827-6d72-4fbc-9e2e-fe8f6a81de27",
   "metadata": {},
   "outputs": [],
   "source": [
    "username = driver.find_element_by_xpath('//input[@name=\"session[username_or_email]\"]')\n",
    "username.send_keys('INSERT YOUR USERNAME / EMAIL HERE')\n",
    "myPassword = 'INSERT YOUR PASSWORD HERE'\n",
    "password = driver.find_element_by_xpath('//input[@name=\"session[password]\"]')\n",
    "password.send_keys(myPassword)\n",
    "password.send_keys(Keys.RETURN)"
   ]
  },
  {
   "cell_type": "code",
   "execution_count": 65,
   "id": "8a408417-56d3-4d9a-8388-4f4391719d14",
   "metadata": {},
   "outputs": [],
   "source": [
    "search_input = driver.find_element_by_xpath('//input[@aria-label=\"Search query\"]')\n",
    "search_input.send_keys('INSERT SEARCH TERM HERE')\n",
    "search_input.send_keys(Keys.RETURN)"
   ]
  },
  {
   "cell_type": "code",
   "execution_count": 66,
   "id": "f200a8e4-b442-4e65-a5af-33c537748015",
   "metadata": {},
   "outputs": [],
   "source": [
    "driver.find_element_by_link_text('Latest').click()"
   ]
  },
  {
   "cell_type": "code",
   "execution_count": 67,
   "id": "3651ed92-8fa2-45f0-80b4-dc3e298a81ca",
   "metadata": {},
   "outputs": [],
   "source": [
    "cards = driver.find_elements_by_xpath('//div[@data-testid=\"tweet\"]')\n",
    "card = cards[0]"
   ]
  },
  {
   "cell_type": "code",
   "execution_count": 68,
   "id": "92f15e15-b839-41b3-bb9d-ad99b065f19d",
   "metadata": {},
   "outputs": [
    {
     "data": {
      "text/plain": [
       "'Nick Vintila'"
      ]
     },
     "execution_count": 68,
     "metadata": {},
     "output_type": "execute_result"
    }
   ],
   "source": [
    "# Username\n",
    "card.find_element_by_xpath('.//span').text"
   ]
  },
  {
   "cell_type": "code",
   "execution_count": 70,
   "id": "9a7a5638-330e-4b9d-af5b-d52eced97e5a",
   "metadata": {},
   "outputs": [
    {
     "data": {
      "text/plain": [
       "'@semanticbeeng'"
      ]
     },
     "execution_count": 70,
     "metadata": {},
     "output_type": "execute_result"
    }
   ],
   "source": [
    "# Twitter handle\n",
    "card.find_element_by_xpath('.//span[contains(text(), \"@\")]').text"
   ]
  },
  {
   "cell_type": "code",
   "execution_count": 71,
   "id": "c0b2e3a1-025c-4f7c-b194-5d01c262667c",
   "metadata": {},
   "outputs": [
    {
     "data": {
      "text/plain": [
       "'2021-05-09T16:45:28.000Z'"
      ]
     },
     "execution_count": 71,
     "metadata": {},
     "output_type": "execute_result"
    }
   ],
   "source": [
    "# Post date\n",
    "card.find_element_by_xpath('.//time').get_attribute('datetime')"
   ]
  },
  {
   "cell_type": "code",
   "execution_count": 72,
   "id": "fe42b563-df27-47f0-be3e-f4f339540643",
   "metadata": {},
   "outputs": [
    {
     "data": {
      "text/plain": [
       "'#Polynote polyglot notebooks close the #softwareEngineering & runtime gap btw #Scala and #Python using\\n\\n* #Jep zero-copy, off-heap big memory management (not #JVM specific)\\n* #functionalProgramming \\n* deep #ApacheSpark integration \\n\\nhttps://jeremyrsmith.github.io/polynote-2019-slides/#39…\\nhttps://polynote.org/docs/03-mixing-programming-languages.html…Quote Tweet\\nSuzana Ilić\\n@suzatweet\\n · Oct 25, 2019\\nGIF\\nThis is so cool. + open source. @netflix \\n\\n\"Polynote: a new, polyglot notebook with first-class Scala support, Apache Spark integration, multi-language interoperability including Scala, Python, and SQL, as-you-type autocomplete, and more.\" '"
      ]
     },
     "execution_count": 72,
     "metadata": {},
     "output_type": "execute_result"
    }
   ],
   "source": [
    "# Content of the tweet\n",
    "comment = card.find_element_by_xpath('.//div[2]/div[2]/div[1]').text\n",
    "responding = card.find_element_by_xpath('.//div[2]/div[2]/div[2]').text\n",
    "comment + responding\n",
    "# CLEAN IT UP BETTER"
   ]
  },
  {
   "cell_type": "code",
   "execution_count": 73,
   "id": "ee190955-780d-4e72-96ed-5f4c0e53c2f8",
   "metadata": {},
   "outputs": [
    {
     "data": {
      "text/plain": [
       "''"
      ]
     },
     "execution_count": 73,
     "metadata": {},
     "output_type": "execute_result"
    }
   ],
   "source": [
    "# Reply count\n",
    "card.find_element_by_xpath('.//div[@data-testid=\"reply\"]').text"
   ]
  },
  {
   "cell_type": "code",
   "execution_count": 74,
   "id": "f10caa62-cef0-41a5-b1b7-b5863e5fa682",
   "metadata": {},
   "outputs": [
    {
     "data": {
      "text/plain": [
       "'1'"
      ]
     },
     "execution_count": 74,
     "metadata": {},
     "output_type": "execute_result"
    }
   ],
   "source": [
    "# Retweet count\n",
    "card.find_element_by_xpath('.//div[@data-testid=\"retweet\"]').text"
   ]
  },
  {
   "cell_type": "code",
   "execution_count": 75,
   "id": "af684baa-5bc7-49c4-9647-101b12db5eb8",
   "metadata": {},
   "outputs": [
    {
     "data": {
      "text/plain": [
       "'1'"
      ]
     },
     "execution_count": 75,
     "metadata": {},
     "output_type": "execute_result"
    }
   ],
   "source": [
    "# Like count\n",
    "card.find_element_by_xpath('.//div[@data-testid=\"like\"]').text"
   ]
  },
  {
   "cell_type": "code",
   "execution_count": 76,
   "id": "64372c06-a600-4759-8ebd-90379f3a02bb",
   "metadata": {},
   "outputs": [],
   "source": [
    "def getTweetData(_card):\n",
    "    \"\"\"Extract data from tweet\"\"\"\n",
    "    username = card.find_element_by_xpath('.//span').text                                  # Username\n",
    "    handle = card.find_element_by_xpath('.//span[contains(text(), \"@\")]').text             # Twitter handle\n",
    "    try:\n",
    "        postDate = card.find_element_by_xpath('.//time').get_attribute('datetime')         # Post date\n",
    "    except NoSuchElementException:\n",
    "        return\n",
    "    # Content of the tweet\n",
    "    comment = card.find_element_by_xpath('.//div[2]/div[2]/div[1]').text\n",
    "    responding = card.find_element_by_xpath('.//div[2]/div[2]/div[2]').text\n",
    "    tweetText = comment + responding                                                       # Tweet whole text\n",
    "    replyCount = card.find_element_by_xpath('.//div[@data-testid=\"reply\"]').text           # Reply count\n",
    "    retweetCount = card.find_element_by_xpath('.//div[@data-testid=\"retweet\"]').text       # Retweet count\n",
    "    likeCount = card.find_element_by_xpath('.//div[@data-testid=\"like\"]').text             # Like count\n",
    "    \n",
    "    tweet = (username, handle, postDate, tweetText, replyCount, retweetCount, likeCount)   # Tweet touple complete\n",
    "    return tweet"
   ]
  },
  {
   "cell_type": "code",
   "execution_count": 77,
   "id": "1b7e7760-6baf-4dd1-9b28-ffbc1f5d2a12",
   "metadata": {},
   "outputs": [
    {
     "data": {
      "text/plain": [
       "('Nick Vintila',\n",
       " '@semanticbeeng',\n",
       " '2021-05-09T16:45:28.000Z',\n",
       " '#Polynote polyglot notebooks close the #softwareEngineering & runtime gap btw #Scala and #Python using\\n\\n* #Jep zero-copy, off-heap big memory management (not #JVM specific)\\n* #functionalProgramming \\n* deep #ApacheSpark integration \\n\\nhttps://jeremyrsmith.github.io/polynote-2019-slides/#39…\\nhttps://polynote.org/docs/03-mixing-programming-languages.html…Quote Tweet\\nSuzana Ilić\\n@suzatweet\\n · Oct 25, 2019\\nGIF\\nThis is so cool. + open source. @netflix \\n\\n\"Polynote: a new, polyglot notebook with first-class Scala support, Apache Spark integration, multi-language interoperability including Scala, Python, and SQL, as-you-type autocomplete, and more.\" ',\n",
       " '',\n",
       " '1',\n",
       " '1')"
      ]
     },
     "execution_count": 77,
     "metadata": {},
     "output_type": "execute_result"
    }
   ],
   "source": [
    "getTweetData(card)"
   ]
  },
  {
   "cell_type": "code",
   "execution_count": 78,
   "id": "52ac68cb-61a1-4730-8f2b-c434ceb73c9d",
   "metadata": {},
   "outputs": [],
   "source": [
    "tweetsData = []\n",
    "for card in cards:\n",
    "    data = getTweetData(card)\n",
    "    if data:\n",
    "        tweetsData.append(data)"
   ]
  },
  {
   "cell_type": "code",
   "execution_count": 79,
   "id": "726c2bce-04dd-4467-8eff-cd36726d467a",
   "metadata": {},
   "outputs": [
    {
     "data": {
      "text/plain": [
       "('Nick Vintila',\n",
       " '@semanticbeeng',\n",
       " '2021-05-09T16:45:28.000Z',\n",
       " '#Polynote polyglot notebooks close the #softwareEngineering & runtime gap btw #Scala and #Python using\\n\\n* #Jep zero-copy, off-heap big memory management (not #JVM specific)\\n* #functionalProgramming \\n* deep #ApacheSpark integration \\n\\nhttps://jeremyrsmith.github.io/polynote-2019-slides/#39…\\nhttps://polynote.org/docs/03-mixing-programming-languages.html…Quote Tweet\\nSuzana Ilić\\n@suzatweet\\n · Oct 25, 2019\\nGIF\\nThis is so cool. + open source. @netflix \\n\\n\"Polynote: a new, polyglot notebook with first-class Scala support, Apache Spark integration, multi-language interoperability including Scala, Python, and SQL, as-you-type autocomplete, and more.\" ',\n",
       " '',\n",
       " '1',\n",
       " '1')"
      ]
     },
     "execution_count": 79,
     "metadata": {},
     "output_type": "execute_result"
    }
   ],
   "source": [
    "tweetsData[0]"
   ]
  },
  {
   "cell_type": "code",
   "execution_count": 80,
   "id": "ad06a545-65c6-49ba-913e-e9e118d6c4a8",
   "metadata": {},
   "outputs": [],
   "source": [
    "# Making the page scroll using JavaScript\n",
    "driver.execute_script('window.scroll(0, document.body.scrollHeight);')"
   ]
  },
  {
   "cell_type": "markdown",
   "id": "293e2ac5-a00d-4afe-83d8-29c8d0b974ee",
   "metadata": {},
   "source": [
    "## Putting it all together!"
   ]
  },
  {
   "cell_type": "code",
   "execution_count": 91,
   "id": "5f4435fa-3888-483e-8a0a-0323709ffdb5",
   "metadata": {},
   "outputs": [
    {
     "data": {
      "text/plain": [
       "113"
      ]
     },
     "execution_count": 91,
     "metadata": {},
     "output_type": "execute_result"
    }
   ],
   "source": [
    "import csv\n",
    "from getpass import getpass\n",
    "from time import sleep\n",
    "from selenium.webdriver.common.keys import Keys\n",
    "from selenium.common.exceptions import NoSuchElementException\n",
    "from selenium.webdriver import Chrome\n",
    "\n",
    "\n",
    "def getTweetData(_card):\n",
    "    \"\"\"Extract data from tweet\"\"\"\n",
    "    username = card.find_element_by_xpath('.//span').text                                  # Username\n",
    "    handle = card.find_element_by_xpath('.//span[contains(text(), \"@\")]').text             # Twitter handle\n",
    "    try:\n",
    "        postDate = card.find_element_by_xpath('.//time').get_attribute('datetime')         # Post date\n",
    "    except NoSuchElementException:\n",
    "        return\n",
    "    # Content of the tweet\n",
    "    comment = card.find_element_by_xpath('.//div[2]/div[2]/div[1]').text\n",
    "    responding = card.find_element_by_xpath('.//div[2]/div[2]/div[2]').text\n",
    "    tweetText = comment + responding                                                       # Tweet whole text\n",
    "    replyCount = card.find_element_by_xpath('.//div[@data-testid=\"reply\"]').text           # Reply count\n",
    "    retweetCount = card.find_element_by_xpath('.//div[@data-testid=\"retweet\"]').text       # Retweet count\n",
    "    likeCount = card.find_element_by_xpath('.//div[@data-testid=\"like\"]').text             # Like count\n",
    "    \n",
    "    tweet = (username, handle, postDate, tweetText, replyCount, retweetCount, likeCount)   # Tweet touple complete\n",
    "    return tweet\n",
    "\n",
    "# Create instance of web driver\n",
    "url = 'http://www.twitter.com/login'\n",
    "driver = Chrome()\n",
    "sleep(1)\n",
    "# Navigate to url and login\n",
    "driver.get(url)\n",
    "driver.maximize_window()\n",
    "sleep(1)\n",
    "username = driver.find_element_by_xpath('//input[@name=\"session[username_or_email]\"]')\n",
    "username.send_keys('INSERT YOUR USERNAME / EMAIL HERE')\n",
    "myPassword = 'INSERT YOUR PASSWORD HERE'\n",
    "password = driver.find_element_by_xpath('//input[@name=\"session[password]\"]')\n",
    "password.send_keys(myPassword)\n",
    "password.send_keys(Keys.RETURN)\n",
    "sleep(1)\n",
    "# Find search input and search for term\n",
    "term = 'INSERT SEARCH TERM HERE'\n",
    "search_input = driver.find_element_by_xpath('//input[@aria-label=\"Search query\"]')\n",
    "search_input.send_keys(term)\n",
    "search_input.send_keys(Keys.RETURN)\n",
    "sleep(1)\n",
    "# Navigate to 'Latest' tab\n",
    "driver.find_element_by_link_text('Latest').click()\n",
    "sleep(1)\n",
    "# Get all the tweets of the page\n",
    "data = []\n",
    "tweets_ids = set()\n",
    "last_y_position = driver.execute_script(\"return window.pageYOffset;\")\n",
    "scrolling = True\n",
    "while scrolling:\n",
    "    page_cards = driver.find_elements_by_xpath('//div[@data-testid=\"tweet\"]')\n",
    "    for card in page_cards[-15:]:\n",
    "        tweet = getTweetData(card)\n",
    "        if tweet:\n",
    "            tweet_id = ''.join(tweet)\n",
    "            if tweet_id not in tweets_ids:\n",
    "                tweets_ids.add(tweet_id)\n",
    "                data.append(tweet)\n",
    "    # Making the page scroll using JavaScript\n",
    "    scroll_attempt = 0\n",
    "    while True:\n",
    "        driver.execute_script('window.scroll(0, document.body.scrollHeight);')\n",
    "        sleep(1)\n",
    "        # Checking scroll positions\n",
    "        current_y_position = driver.execute_script(\"return window.pageYOffset;\")\n",
    "        if last_y_position == current_y_position:\n",
    "            scroll_attempt += 1\n",
    "            # end scroll region\n",
    "            if scroll_attempt >= 3:\n",
    "                scrolling = False\n",
    "                break\n",
    "            else:\n",
    "                sleep(2) # Attempt to scroll after 2 seconds ( in order to give the page enough time to load )\n",
    "        else:\n",
    "            last_y_position = current_y_position\n",
    "            break\n",
    "len(data)"
   ]
  },
  {
   "cell_type": "markdown",
   "id": "efee1c77-617d-4a42-8072-a20cd69507fb",
   "metadata": {},
   "source": [
    "## Saving the tweets data"
   ]
  },
  {
   "cell_type": "code",
   "execution_count": 92,
   "id": "9d7986d3-fff5-4a0a-bb94-0e58391feeeb",
   "metadata": {},
   "outputs": [],
   "source": [
    "with open('INSERT FILE NAME HERE.csv', 'w', newline = '', encoding = 'utf-8') as f:\n",
    "    header = {'UserName', 'Handle', 'Timestamp', 'Comments', 'Likes', 'Retweets', 'Text'}\n",
    "    writer = csv.writer(f)\n",
    "    writer.writerow(header)\n",
    "    writer.writerows(data)"
   ]
  },
  {
   "cell_type": "code",
   "execution_count": null,
   "id": "5fa52854-e90f-4ea5-b29b-79db3ca7a902",
   "metadata": {},
   "outputs": [],
   "source": []
  }
 ],
 "metadata": {
  "kernelspec": {
   "display_name": "Python 3",
   "language": "python",
   "name": "python3"
  },
  "language_info": {
   "codemirror_mode": {
    "name": "ipython",
    "version": 3
   },
   "file_extension": ".py",
   "mimetype": "text/x-python",
   "name": "python",
   "nbconvert_exporter": "python",
   "pygments_lexer": "ipython3",
   "version": "3.7.10"
  }
 },
 "nbformat": 4,
 "nbformat_minor": 5
}
