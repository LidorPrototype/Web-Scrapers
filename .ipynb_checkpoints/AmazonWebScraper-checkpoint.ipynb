{
 "cells": [
  {
   "cell_type": "markdown",
   "id": "dee03255-fae0-493e-89f5-4b7cac908f95",
   "metadata": {},
   "source": [
    "# Amazon Web Scraper by Lidor ES"
   ]
  },
  {
   "cell_type": "code",
   "execution_count": 61,
   "id": "7a101c3c-8155-40f3-b2f0-fb677c8eab56",
   "metadata": {},
   "outputs": [],
   "source": [
    "import csv\n",
    "from bs4 import BeautifulSoup\n",
    "from selenium import webdriver"
   ]
  },
  {
   "cell_type": "markdown",
   "id": "24832b33-e820-47e7-a092-db57e891ab8d",
   "metadata": {},
   "source": [
    "## Create an instance of the websdriver"
   ]
  },
  {
   "cell_type": "code",
   "execution_count": 63,
   "id": "1c3fd775-e80d-49d4-8752-5eaa8eacce53",
   "metadata": {},
   "outputs": [],
   "source": [
    "driver = webdriver.Chrome()"
   ]
  },
  {
   "cell_type": "code",
   "execution_count": 3,
   "id": "ac9f0482-3a62-4b5b-a7d5-ee02601797b3",
   "metadata": {},
   "outputs": [],
   "source": [
    "url = 'https://www.amazon.com'\n",
    "driver.get(url)"
   ]
  },
  {
   "cell_type": "code",
   "execution_count": 4,
   "id": "f911cd87-8dcd-47e0-8dd9-2b901de42c24",
   "metadata": {},
   "outputs": [],
   "source": [
    "def get_url(search_term):\n",
    "    \"\"\"Generate a url from search_term\"\"\"\n",
    "    template = 'https://www.amazon.com/s?k={}&ref=nb_sb_noss_1'\n",
    "    search_term = search_term.replace(' ', '+')\n",
    "    return template.format(search_term)"
   ]
  },
  {
   "cell_type": "code",
   "execution_count": 64,
   "id": "4a40fec9-2bed-4eba-9233-a3da8ef99735",
   "metadata": {},
   "outputs": [
    {
     "name": "stdout",
     "output_type": "stream",
     "text": [
      "https://www.amazon.com/s?k=ultrawide+monitor&page={}&ref=nb_sb_noss_1\n"
     ]
    }
   ],
   "source": [
    "url = get_url('ultrawide monitor')\n",
    "driver.get(url)\n",
    "print(url)"
   ]
  },
  {
   "cell_type": "markdown",
   "id": "42e621e7-d101-4caa-bf4f-f48a0ff7e846",
   "metadata": {},
   "source": [
    "## Extract the collection"
   ]
  },
  {
   "cell_type": "code",
   "execution_count": 7,
   "id": "4c82d21e-a658-4dcb-95c7-0f8ee3be33b4",
   "metadata": {},
   "outputs": [],
   "source": [
    "soup = BeautifulSoup(driver.page_source, 'html.parser')"
   ]
  },
  {
   "cell_type": "code",
   "execution_count": 8,
   "id": "5e3ec914-f217-48db-a02e-4c305a4c908e",
   "metadata": {},
   "outputs": [],
   "source": [
    "results = soup.find_all('div', {'data-component-type': 's-search-result'})"
   ]
  },
  {
   "cell_type": "markdown",
   "id": "d1a58e20-ce47-4d9d-ac08-17b660f5e037",
   "metadata": {},
   "source": [
    "## Prototype the record"
   ]
  },
  {
   "cell_type": "code",
   "execution_count": 10,
   "id": "3b9f2488-7d05-4849-8b5e-457c1b62d1cc",
   "metadata": {},
   "outputs": [],
   "source": [
    "item = results[0]"
   ]
  },
  {
   "cell_type": "code",
   "execution_count": 11,
   "id": "12928a68-d5fc-4b8f-8e44-2868200fdb2f",
   "metadata": {},
   "outputs": [],
   "source": [
    "atag = item.h2.a"
   ]
  },
  {
   "cell_type": "code",
   "execution_count": 13,
   "id": "397d1fcf-5e6d-4af9-9e90-8ae3fa3fc9ff",
   "metadata": {},
   "outputs": [],
   "source": [
    "description = atag.text.strip()"
   ]
  },
  {
   "cell_type": "code",
   "execution_count": 15,
   "id": "18b25b56-dcf2-4587-8616-63b5f21c1a64",
   "metadata": {},
   "outputs": [],
   "source": [
    "url = 'https://www.amazon.com' + atag.get('href')"
   ]
  },
  {
   "cell_type": "code",
   "execution_count": 16,
   "id": "6e95c129-d099-4a2d-af9a-40399a9526df",
   "metadata": {},
   "outputs": [],
   "source": [
    "price_parent = item.find('span', 'a-price')"
   ]
  },
  {
   "cell_type": "code",
   "execution_count": 19,
   "id": "b3a8c24d-1a19-4678-b821-cf3c93afe1d6",
   "metadata": {},
   "outputs": [],
   "source": [
    "price = price_parent.find('span', 'a-offscreen').text"
   ]
  },
  {
   "cell_type": "code",
   "execution_count": 23,
   "id": "dafaff30-3890-4b3d-997e-b2087660b545",
   "metadata": {},
   "outputs": [],
   "source": [
    "rating = item.i.text"
   ]
  },
  {
   "cell_type": "code",
   "execution_count": 27,
   "id": "eee51b88-3be3-4aa0-ab22-c49322499c51",
   "metadata": {},
   "outputs": [],
   "source": [
    "review_count = item.find('span', {'class': 'a-size-base'}).text"
   ]
  },
  {
   "cell_type": "code",
   "execution_count": 33,
   "id": "3c6e346c-e319-4b02-8d66-ce7894264e98",
   "metadata": {},
   "outputs": [],
   "source": [
    "image_src = item.find('img', {'class': 's-image'})['src']"
   ]
  },
  {
   "cell_type": "markdown",
   "id": "697ebb9e-0efa-4e1b-87dd-a2803525548a",
   "metadata": {},
   "source": [
    "## Generalize the pattern"
   ]
  },
  {
   "cell_type": "code",
   "execution_count": 35,
   "id": "cf66ad9b-db58-47d7-a0ec-9319a9251b55",
   "metadata": {},
   "outputs": [],
   "source": [
    "def extract_record(_item):\n",
    "    \"\"\"Extract and return data from a single record\"\"\"\n",
    "    # description and url\n",
    "    atag = _item.h2.a\n",
    "    description = atag.text.strip()\n",
    "    url = 'https://www.amazon.com' + atag.get('href')\n",
    "    # Price\n",
    "    price_parent = _item.find('span', 'a-price')\n",
    "    price = price_parent.find('span', 'a-offscreen').text\n",
    "    # Rank and rating\n",
    "    rating = _item.i.text\n",
    "    review_count = _item.find('span', {'class': 'a-size-base'}).text\n",
    "    # Image src url\n",
    "    image_src = _item.find('img', {'class': 's-image'})['src']\n",
    "    \n",
    "    result = (description, price, rating, review_count, url, image_src)\n",
    "    return result"
   ]
  },
  {
   "cell_type": "code",
   "execution_count": 36,
   "id": "e4acffd8-7bd6-41d1-96e0-96af28ce60aa",
   "metadata": {},
   "outputs": [
    {
     "ename": "AttributeError",
     "evalue": "'NoneType' object has no attribute 'find'",
     "output_type": "error",
     "traceback": [
      "\u001b[1;31m---------------------------------------------------------------------------\u001b[0m",
      "\u001b[1;31mAttributeError\u001b[0m                            Traceback (most recent call last)",
      "\u001b[1;32m<ipython-input-36-70058caefd0d>\u001b[0m in \u001b[0;36m<module>\u001b[1;34m\u001b[0m\n\u001b[0;32m      3\u001b[0m \u001b[1;33m\u001b[0m\u001b[0m\n\u001b[0;32m      4\u001b[0m \u001b[1;32mfor\u001b[0m \u001b[0mitem\u001b[0m \u001b[1;32min\u001b[0m \u001b[0mresults\u001b[0m\u001b[1;33m:\u001b[0m\u001b[1;33m\u001b[0m\u001b[1;33m\u001b[0m\u001b[0m\n\u001b[1;32m----> 5\u001b[1;33m     \u001b[0mrecords\u001b[0m\u001b[1;33m.\u001b[0m\u001b[0mappend\u001b[0m\u001b[1;33m(\u001b[0m\u001b[0mextract_record\u001b[0m\u001b[1;33m(\u001b[0m\u001b[0mitem\u001b[0m\u001b[1;33m)\u001b[0m\u001b[1;33m)\u001b[0m\u001b[1;33m\u001b[0m\u001b[1;33m\u001b[0m\u001b[0m\n\u001b[0m",
      "\u001b[1;32m<ipython-input-35-dbc4f2750bab>\u001b[0m in \u001b[0;36mextract_record\u001b[1;34m(_item)\u001b[0m\n\u001b[0;32m      7\u001b[0m     \u001b[1;31m# Price\u001b[0m\u001b[1;33m\u001b[0m\u001b[1;33m\u001b[0m\u001b[1;33m\u001b[0m\u001b[0m\n\u001b[0;32m      8\u001b[0m     \u001b[0mprice_parent\u001b[0m \u001b[1;33m=\u001b[0m \u001b[0m_item\u001b[0m\u001b[1;33m.\u001b[0m\u001b[0mfind\u001b[0m\u001b[1;33m(\u001b[0m\u001b[1;34m'span'\u001b[0m\u001b[1;33m,\u001b[0m \u001b[1;34m'a-price'\u001b[0m\u001b[1;33m)\u001b[0m\u001b[1;33m\u001b[0m\u001b[1;33m\u001b[0m\u001b[0m\n\u001b[1;32m----> 9\u001b[1;33m     \u001b[0mprice\u001b[0m \u001b[1;33m=\u001b[0m \u001b[0mprice_parent\u001b[0m\u001b[1;33m.\u001b[0m\u001b[0mfind\u001b[0m\u001b[1;33m(\u001b[0m\u001b[1;34m'span'\u001b[0m\u001b[1;33m,\u001b[0m \u001b[1;34m'a-offscreen'\u001b[0m\u001b[1;33m)\u001b[0m\u001b[1;33m.\u001b[0m\u001b[0mtext\u001b[0m\u001b[1;33m\u001b[0m\u001b[1;33m\u001b[0m\u001b[0m\n\u001b[0m\u001b[0;32m     10\u001b[0m     \u001b[1;31m# Rank and rating\u001b[0m\u001b[1;33m\u001b[0m\u001b[1;33m\u001b[0m\u001b[1;33m\u001b[0m\u001b[0m\n\u001b[0;32m     11\u001b[0m     \u001b[0mrating\u001b[0m \u001b[1;33m=\u001b[0m \u001b[0m_item\u001b[0m\u001b[1;33m.\u001b[0m\u001b[0mi\u001b[0m\u001b[1;33m.\u001b[0m\u001b[0mtext\u001b[0m\u001b[1;33m\u001b[0m\u001b[1;33m\u001b[0m\u001b[0m\n",
      "\u001b[1;31mAttributeError\u001b[0m: 'NoneType' object has no attribute 'find'"
     ]
    }
   ],
   "source": [
    "records = []\n",
    "results = results = soup.find_all('div', {'data-component-type': 's-search-result'})\n",
    "\n",
    "for item in results:\n",
    "    records.append(extract_record(item))"
   ]
  },
  {
   "cell_type": "markdown",
   "id": "0599dc24-51dc-4009-9296-4a31526511b5",
   "metadata": {},
   "source": [
    "## Error Handling"
   ]
  },
  {
   "cell_type": "code",
   "execution_count": 37,
   "id": "b9f6fbb7-da3d-477c-a542-71242ddd37e1",
   "metadata": {},
   "outputs": [],
   "source": [
    "def extract_record(_item):\n",
    "    \"\"\"Extract and return data from a single record\"\"\"\n",
    "    # description and url\n",
    "    atag = _item.h2.a\n",
    "    description = atag.text.strip()\n",
    "    url = 'https://www.amazon.com' + atag.get('href')\n",
    "    try:\n",
    "        # Price\n",
    "        price_parent = _item.find('span', 'a-price')\n",
    "        price = price_parent.find('span', 'a-offscreen').text\n",
    "    except AttributeError:\n",
    "        return\n",
    "    try:\n",
    "        # Rank and rating\n",
    "        rating = _item.i.text\n",
    "        review_count = _item.find('span', {'class': 'a-size-base'}).text\n",
    "    except AttributeError:\n",
    "        rating = ''\n",
    "        review_count = ''\n",
    "    # Image src url\n",
    "    image_src = _item.find('img', {'class': 's-image'})['src']\n",
    "    \n",
    "    result = (description, price, rating, review_count, url, image_src)\n",
    "    return result"
   ]
  },
  {
   "cell_type": "code",
   "execution_count": 39,
   "id": "31bda60a-7de9-4d68-8b3b-8a5f7955aef9",
   "metadata": {},
   "outputs": [],
   "source": [
    "records = []\n",
    "results = results = soup.find_all('div', {'data-component-type': 's-search-result'})\n",
    "\n",
    "for item in results:\n",
    "    record = extract_record(item)\n",
    "    if record:\n",
    "        records.append(record)"
   ]
  },
  {
   "cell_type": "code",
   "execution_count": 41,
   "id": "8a1c6355-4bf2-4605-a6f8-01601f52b413",
   "metadata": {},
   "outputs": [
    {
     "data": {
      "text/plain": [
       "('LG 29WN600-W 29\" 21:9 UltraWide WFHD IPS HDR10 Monitor with FreeSync, Silver',\n",
       " '$226.99',\n",
       " '4.6 out of 5 stars',\n",
       " '1,704',\n",
       " 'https://www.amazon.com/LG-29WN600-W-29-21-UltraWide/dp/B0876DBCBX/ref=sr_1_1?dchild=1&keywords=ultrawide+monitor&qid=1621236220&sr=8-1',\n",
       " 'https://m.media-amazon.com/images/I/91WlgTJfawL._AC_UY218_.jpg')"
      ]
     },
     "execution_count": 41,
     "metadata": {},
     "output_type": "execute_result"
    }
   ],
   "source": [
    "records[0]"
   ]
  },
  {
   "cell_type": "markdown",
   "id": "127e0e44-f293-46f9-85af-f0d04f5cacfc",
   "metadata": {},
   "source": [
    "## Getting the next page"
   ]
  },
  {
   "cell_type": "code",
   "execution_count": 52,
   "id": "254a291b-db80-4c8b-9d03-6e1b45e315ea",
   "metadata": {},
   "outputs": [
    {
     "data": {
      "text/plain": [
       "'https://www.amazon.com/s?k=ultrawide+monitor&page{}&ref=nb_sb_noss_1'"
      ]
     },
     "execution_count": 52,
     "metadata": {},
     "output_type": "execute_result"
    }
   ],
   "source": [
    "def get_url(search_term):\n",
    "    \"\"\"Generate a url from search_term\"\"\"\n",
    "    template = 'https://www.amazon.com/s?k={}{}&ref=nb_sb_noss_1'\n",
    "    search_term = search_term.replace(' ', '+')\n",
    "    # Add term query to url\n",
    "    url = template.format(search_term, '{}')\n",
    "    # Add page query placeholder\n",
    "#     url += '&page{}'\n",
    "    url = url.format('&page{}')\n",
    "    return url\n",
    "get_url('ultrawide monitor')"
   ]
  },
  {
   "cell_type": "markdown",
   "id": "46cb9b09-91a4-4b65-b4f3-fe7d709ee017",
   "metadata": {},
   "source": [
    "# Putting it all togehter"
   ]
  },
  {
   "cell_type": "code",
   "execution_count": 81,
   "id": "3e48b2d2-f61f-4e41-9a3d-be31433e0306",
   "metadata": {},
   "outputs": [],
   "source": [
    "import csv\n",
    "from bs4 import BeautifulSoup\n",
    "from selenium import webdriver\n",
    "\n",
    "def get_url(search_term):\n",
    "    \"\"\"Generate a url from search_term\"\"\"\n",
    "    template = 'https://www.amazon.com/s?k={}{}&ref=nb_sb_noss_1'\n",
    "    search_term = search_term.replace(' ', '+')\n",
    "    # Add term query to url\n",
    "    url = template.format(search_term, '{}')\n",
    "    # Add page query placeholder\n",
    "    url = url.format('&page={}')\n",
    "    return url\n",
    "\n",
    "def extract_record(_item):\n",
    "    \"\"\"Extract and return data from a single record\"\"\"\n",
    "    # description and url\n",
    "    atag = _item.h2.a\n",
    "    description = atag.text.strip()\n",
    "    url = 'https://www.amazon.com' + atag.get('href')\n",
    "    try:\n",
    "        # Price\n",
    "        price_parent = _item.find('span', 'a-price')\n",
    "        price = price_parent.find('span', 'a-offscreen').text\n",
    "    except AttributeError:\n",
    "        return\n",
    "    try:\n",
    "        # Rank and rating\n",
    "        rating = _item.i.text\n",
    "        review_count = _item.find('span', {'class': 'a-size-base'}).text\n",
    "    except AttributeError:\n",
    "        rating = ''\n",
    "        review_count = ''\n",
    "    # Image src url\n",
    "    image_src = _item.find('img', {'class': 's-image'})['src']\n",
    "    \n",
    "    result = (description, price, rating, review_count, url, image_src)\n",
    "    return result\n",
    "\n",
    "def main(search_term):\n",
    "    \"\"\"Run main program routine\"\"\"\n",
    "    # Create an instance of the web driver\n",
    "    driver = webdriver.Chrome()\n",
    "    \n",
    "    records = []\n",
    "    url = get_url(search_term)\n",
    "    \n",
    "    for page in range(1, 22):\n",
    "        driver.get(url.format(page))\n",
    "        soup = BeautifulSoup(driver.page_source, 'html.parser')\n",
    "        results = soup.find_all('div', {'data-component-type': 's-search-result'})\n",
    "        for item in results:\n",
    "            record = extract_record(item)\n",
    "            if record:\n",
    "                records.append(record)\n",
    "        max_pages = soup.find_all('li', {'class': 'a-disabled', 'aria-disabled': 'true'})\n",
    "        max_page = 0\n",
    "        for p in max_pages:\n",
    "            try:\n",
    "                max_page = int(p.text)\n",
    "            except ValueError:\n",
    "                continue\n",
    "        to_break = False\n",
    "        next_page = (int(str(page)) + 1)\n",
    "        if max_page < next_page:\n",
    "            to_break = True\n",
    "        if to_break:\n",
    "            break\n",
    "    driver.close()\n",
    "    # Save data to a CSV file\n",
    "    file_name = 'AmazoneScraper - {}.csv'.format(search_term)\n",
    "    with open(file_name, 'w', newline='', encoding='utf-8') as file:\n",
    "        writer = csv.writer(file)\n",
    "        writer.writerow(['Description', 'Price', 'Rating', 'ReviewCount', 'Url', 'ImageUrl'])\n",
    "        writer.writerows(records)"
   ]
  },
  {
   "cell_type": "code",
   "execution_count": 82,
   "id": "7b095243-9002-47cc-8bce-a534abe5996d",
   "metadata": {
    "tags": []
   },
   "outputs": [],
   "source": [
    "main('ultrawide monitor')"
   ]
  }
 ],
 "metadata": {
  "kernelspec": {
   "display_name": "Python 3",
   "language": "python",
   "name": "python3"
  },
  "language_info": {
   "codemirror_mode": {
    "name": "ipython",
    "version": 3
   },
   "file_extension": ".py",
   "mimetype": "text/x-python",
   "name": "python",
   "nbconvert_exporter": "python",
   "pygments_lexer": "ipython3",
   "version": "3.7.10"
  }
 },
 "nbformat": 4,
 "nbformat_minor": 5
}
