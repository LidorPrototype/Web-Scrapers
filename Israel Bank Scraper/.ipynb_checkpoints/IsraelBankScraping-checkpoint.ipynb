{
 "cells": [
  {
   "cell_type": "markdown",
   "id": "bb94584b-b09a-40e1-900d-eeb390d4ab42",
   "metadata": {},
   "source": [
    "# Israel Bank Scraper"
   ]
  },
  {
   "cell_type": "code",
   "execution_count": 1,
   "id": "f0757d98-3735-4109-a532-12f255459ea1",
   "metadata": {},
   "outputs": [],
   "source": [
    "import csv\n",
    "from bs4 import BeautifulSoup\n",
    "from selenium import webdriver"
   ]
  },
  {
   "cell_type": "code",
   "execution_count": 2,
   "id": "9533b816-0434-4d60-a4eb-0a359d1eacab",
   "metadata": {},
   "outputs": [],
   "source": [
    "url_about = 'https://www.boi.org.il/he/AboutTheBank/Pages/Default.aspx'\n",
    "url_research = 'https://www.boi.org.il/he/Research/Pages/Default.aspx'\n",
    "url_statistics_series = 'https://www.boi.org.il/he/DataAndStatistics/Pages/Series.aspx'\n",
    "url_education_dictionary = 'https://www.boi.org.il/he/Education/Glossary/Pages/Default.aspx'\n",
    "url_students_jobs = 'https://careers.boi.org.il/index.html?FTXT=&F1C=משרות+לסטודנטים&F2C='"
   ]
  },
  {
   "cell_type": "code",
   "execution_count": 3,
   "id": "96a68a06-7cad-41db-b282-6025e7dc421b",
   "metadata": {},
   "outputs": [],
   "source": [
    "driver = webdriver.Chrome()"
   ]
  },
  {
   "cell_type": "markdown",
   "id": "148799b0-2770-4382-b6f8-cc23a2881064",
   "metadata": {},
   "source": [
    "## About Scraping "
   ]
  },
  {
   "cell_type": "code",
   "execution_count": 4,
   "id": "a1fdd3cf-5af5-4b42-985b-4c7cd4757503",
   "metadata": {},
   "outputs": [],
   "source": [
    "driver.get(url_about)"
   ]
  },
  {
   "cell_type": "code",
   "execution_count": 5,
   "id": "ae4c5771-9681-4f33-b491-210449fa4c45",
   "metadata": {},
   "outputs": [],
   "source": [
    "def getAboutData():\n",
    "    soup = BeautifulSoup(driver.page_source, 'html.parser')\n",
    "    titles = soup.find_all('h3', {'class': 'WpTitle'})\n",
    "    bodies = soup.find_all('div', {'class': 'WpBody'})\n",
    "    data_titles = []\n",
    "    data_bodies = []\n",
    "    data_clean_bodies = []\n",
    "    for index in range(0, len(titles)):\n",
    "        title = titles[index].text.strip()\n",
    "        body = bodies[index].text.strip()\n",
    "        data_titles.append(title)\n",
    "        data_bodies.append(body)\n",
    "        for item in data_bodies:\n",
    "            data_clean_bodies.append(item.replace('\\n', ' ').replace('\\u200b', ' ').replace('\\xa0', ' ').strip())\n",
    "    data_clean_bodies = list(dict.fromkeys(data_clean_bodies))\n",
    "    about = (data_titles, data_clean_bodies)\n",
    "    return about"
   ]
  },
  {
   "cell_type": "code",
   "execution_count": 6,
   "id": "17cdcc20-1105-4c0a-9f70-e4ad6c246bb4",
   "metadata": {},
   "outputs": [],
   "source": [
    "abouts = getAboutData()"
   ]
  },
  {
   "cell_type": "markdown",
   "id": "c040aa7a-850f-49af-bd2d-b619a25131a8",
   "metadata": {},
   "source": [
    "# <ins>_ABOUT SECTION CSV NOT ORGANIZED CORRECTLY!_</ins>"
   ]
  },
  {
   "cell_type": "markdown",
   "id": "414e0e3a-4617-4e13-9923-655d4f5c862c",
   "metadata": {},
   "source": [
    "## Research Scraping"
   ]
  },
  {
   "cell_type": "code",
   "execution_count": 724,
   "id": "e3cafcf8-48d0-4f11-a0f2-d3fa7403983e",
   "metadata": {},
   "outputs": [],
   "source": [
    "driver.get(url_research)\n",
    "soup = BeautifulSoup(driver.page_source, 'html.parser')"
   ]
  },
  {
   "cell_type": "code",
   "execution_count": 725,
   "id": "b63366ea-3eb1-49d6-82a8-0e58e82d8925",
   "metadata": {},
   "outputs": [],
   "source": [
    "# Making the page display the max rows that it have\n",
    "number_of_results_dropdown = soup.find('select', {'id': 'selNumOfResults'})\n",
    "selector = driver.find_element_by_id('selNumOfResults')\n",
    "selector.click()\n",
    "options = selector.find_elements_by_xpath('//option[text()=\"100\"]')\n",
    "options[0].click()\n",
    "btn = driver.find_element_by_id('btnSearchPublicationFilter')\n",
    "btn.click()\n",
    "# Need to add sleep here for the page to load"
   ]
  },
  {
   "cell_type": "code",
   "execution_count": 726,
   "id": "dc0d3179-5b11-49ce-9e00-c882f7f51e6a",
   "metadata": {},
   "outputs": [],
   "source": [
    "def getNoticeData(_card):\n",
    "    title = _card.find_element_by_xpath('.//h5').text\n",
    "    author = _card.find_element_by_xpath('.//div[\"class=@Author\"]').text\n",
    "    creation_date = _card.find_elements_by_xpath('.//span')[0].text.replace(' ', '').replace('|', '')\n",
    "    brief = _card.find_elements_by_xpath('.//span')[1].text\n",
    "    link = _card.find_element_by_xpath('.//a').get_attribute('href')\n",
    "    notice = (title, author, creation_date, brief, link)\n",
    "    return notice"
   ]
  },
  {
   "cell_type": "code",
   "execution_count": 734,
   "id": "8c215c66-a58d-42ed-866d-d047113cbcff",
   "metadata": {},
   "outputs": [],
   "source": [
    "page_cards = driver.find_elements_by_xpath('//div[@class=\"TitleAuthorDateBriefLink\"]')\n",
    "_researches = []\n",
    "for card in page_cards:\n",
    "    notice = getNoticeData(card)\n",
    "    _researches.append(notice)\n",
    "researches_headers = ['כותרת', 'מחבר', 'תאריך פרסום', 'תקציר', 'לינק לקריאה נוספת']\n",
    "researches = (researches_headers, _researches)"
   ]
  },
  {
   "cell_type": "markdown",
   "id": "49fc0290-5156-43b4-bef5-561938c401d0",
   "metadata": {},
   "source": [
    "## DataAndStatistics-Series Scraping"
   ]
  },
  {
   "cell_type": "code",
   "execution_count": 717,
   "id": "9fd2adf8-d728-452b-adff-f963eb260774",
   "metadata": {},
   "outputs": [],
   "source": [
    "driver.get(url_statistics_series)\n",
    "# soup = BeautifulSoup(driver.page_source, 'html.parser')"
   ]
  },
  {
   "cell_type": "code",
   "execution_count": 718,
   "id": "2011951b-36de-4b7f-8799-09630cdc998d",
   "metadata": {},
   "outputs": [],
   "source": [
    "def nextButtonClick():\n",
    "    driver.find_element_by_id('btnNext').click()"
   ]
  },
  {
   "cell_type": "code",
   "execution_count": 719,
   "id": "6e68027c-f7e6-4ac5-8f31-ba503fb49296",
   "metadata": {},
   "outputs": [],
   "source": [
    "pages = driver.find_element_by_id('BoiPages').find_elements_by_xpath('.//option')\n",
    "maxPage = len(pages)"
   ]
  },
  {
   "cell_type": "code",
   "execution_count": 720,
   "id": "d471cd8a-b5e7-446b-8cfd-23c5534a766d",
   "metadata": {},
   "outputs": [],
   "source": [
    "def getRowData(_row):\n",
    "    _tableData = _row.find_elements_by_xpath('.//td')\n",
    "    _rowData = []\n",
    "    for item in _tableData[:-3]:\n",
    "        _rowData.append(item.text)\n",
    "    idx = (len(_tableData) - 3)\n",
    "    _tableData[idx].click()\n",
    "    return _rowData\n",
    "def getExtraRowData(_row):\n",
    "    _tableData = _row.find_elements_by_xpath('.//td/div/p')\n",
    "    _rowExtraData = []\n",
    "    for _p in _tableData:\n",
    "        _rowExtraData.append(_p.text)\n",
    "    return _rowExtraData"
   ]
  },
  {
   "cell_type": "code",
   "execution_count": 721,
   "id": "82d0f4fd-9efa-4392-a2b4-0eac0c999a53",
   "metadata": {},
   "outputs": [],
   "source": [
    "from selenium.common.exceptions import NoSuchElementException\n",
    "def extractTableData():\n",
    "    while True:\n",
    "        try:\n",
    "            table = driver.find_element_by_id('BoiSeriesResultsTable')\n",
    "            break\n",
    "        except NoSuchElementException:\n",
    "            pass # ignore\n",
    "    tableRows = table.find_elements_by_xpath('.//table/tbody/tr')\n",
    "    tableHeaders = tableRows[0].find_elements_by_xpath('.//th')\n",
    "    headers = []\n",
    "    for item in tableHeaders[:-3]:\n",
    "        headers.append(item.text)\n",
    "    headers.append(\"Extra Information\")\n",
    "    tableData = tableRows[1].find_elements_by_xpath('.//td')\n",
    "    rowsData = []\n",
    "    rowsExtraData = []\n",
    "    for index in range(1,31, 3):\n",
    "        rowsData.append(getRowData(tableRows[index]))\n",
    "    for index in range(2,31, 3):\n",
    "        rowsExtraData.append(getExtraRowData(tableRows[index]))\n",
    "    for index in range(0,10):\n",
    "        rowsData[index].extend(rowsExtraData[index])\n",
    "    return rowsData"
   ]
  },
  {
   "cell_type": "code",
   "execution_count": 722,
   "id": "328d8641-b5d9-4f86-80b3-06904ee10570",
   "metadata": {},
   "outputs": [],
   "source": [
    "import time\n",
    "def getStatistics(numberOfPages):\n",
    "    max_page = 1\n",
    "    if numberOfPages > maxPage:\n",
    "        max_page = maxPage\n",
    "    else:\n",
    "        max_page = numberOfPages\n",
    "    table_headers = ['תאור הסדרה', 'תדירות', 'יחידות', 'בסיס מחירים', 'ניכוי עונתיות', 'עדכון אחרון', 'קוד סדרה', 'מקור הנתונים', 'סוג הנתונים', 'עיבוד הנתונים', 'תיעוד']\n",
    "    pageData = []\n",
    "#     pageData.extend(extractTableData())\n",
    "    for index in range(0, max_page):\n",
    "        pageData.extend(extractTableData())\n",
    "        time.sleep(1.0)\n",
    "        nextButtonClick()\n",
    "    return (table_headers, pageData)\n",
    "datas = getStatistics(2)"
   ]
  },
  {
   "cell_type": "markdown",
   "id": "5d1ec7ef-9474-4c01-b537-bab509f4ec34",
   "metadata": {},
   "source": [
    "## Education-Glossary-Dictionary Scraping"
   ]
  },
  {
   "cell_type": "code",
   "execution_count": 670,
   "id": "7c8ff11c-e5db-4247-9746-7f9ca1cc0236",
   "metadata": {},
   "outputs": [],
   "source": [
    "driver.get(url_education_dictionary)\n",
    "# soup = BeautifulSoup(driver.page_source, 'html.parser')"
   ]
  },
  {
   "cell_type": "code",
   "execution_count": 671,
   "id": "3998e9c4-1044-433d-8edb-c3b60b67cac7",
   "metadata": {},
   "outputs": [],
   "source": [
    "titles = ['Word', 'Defenition']\n",
    "divBody = driver.find_element_by_class_name('BoiTermsWrapper')\n",
    "descriptionList = divBody.find_element_by_class_name('BoiTerms')\n",
    "definitionTerms = descriptionList.find_elements_by_xpath('.//dt')\n",
    "for item in definitionTerms:\n",
    "    item.click()\n",
    "describeTerms = descriptionList.find_elements_by_xpath('.//dd')\n",
    "_defenitions = []\n",
    "for index in range(0, len(definitionTerms)):\n",
    "    _deffenition = []\n",
    "    _deffenition.append(definitionTerms[index].text)\n",
    "    _deffenition.append(describeTerms[index].text)\n",
    "    _defenitions.append(_deffenition)\n",
    "_defenitions = (titles, _defenitions)"
   ]
  },
  {
   "cell_type": "code",
   "execution_count": 664,
   "id": "7b47a84b-ca21-4615-933a-aeb546e73a3b",
   "metadata": {},
   "outputs": [
    {
     "name": "stdout",
     "output_type": "stream",
     "text": [
      "['Word', 'Defenition']\n",
      "---------------------------------------------------------------\n",
      "['אבטלה', 'אי יכולת של אדם המחפש עבודה למצוא עבודה הולמת בשכר, גם לא באמצעות שירות התעסוקה.']\n",
      "***************************************************************\n"
     ]
    }
   ],
   "source": [
    "print(_defenitions[0])\n",
    "print(\"---------------------------------------------------------------\")\n",
    "for item in _defenitions[1]:\n",
    "    print(item)\n",
    "    print(\"***************************************************************\")\n",
    "    break"
   ]
  },
  {
   "cell_type": "markdown",
   "id": "017f937e-f41c-41ba-9384-2139a845f368",
   "metadata": {},
   "source": [
    "## Careers Scraping"
   ]
  },
  {
   "cell_type": "code",
   "execution_count": 667,
   "id": "99190a5f-7773-40b2-af73-bf3038ae2386",
   "metadata": {},
   "outputs": [],
   "source": [
    "driver.get(url_students_jobs)"
   ]
  },
  {
   "cell_type": "code",
   "execution_count": 668,
   "id": "138a7dba-9b56-4f62-97da-9cfe5aa68ddd",
   "metadata": {},
   "outputs": [
    {
     "name": "stdout",
     "output_type": "stream",
     "text": [
      "17\n"
     ]
    }
   ],
   "source": [
    "soup = BeautifulSoup(driver.page_source, 'html.parser')\n",
    "jobs_inners = soup.find_all('div', {'class': 'inner'})\n",
    "print(len(jobs_inners))"
   ]
  },
  {
   "cell_type": "code",
   "execution_count": 669,
   "id": "052525fd-4007-4e6e-ad4a-0e208141a35b",
   "metadata": {},
   "outputs": [
    {
     "name": "stdout",
     "output_type": "stream",
     "text": [
      "['Title', 'Number', 'Location', 'Type', 'Last Submition Date', 'Link']\n",
      "___________________________________________________________________________________________________________________________________________\n",
      "['נהג/ת מקצועי/ת להסעת מנהל/ת בכיר/ה', '1609', 'ירושלים ותל אביב', 'ארעי', '09/06/2021', 'https://careers.boi.org.il/requisition.html?id=1609']\n",
      "***************************************************************************************************************************************\n",
      "17\n"
     ]
    }
   ],
   "source": [
    "def getJobs():\n",
    "    jobs_headers = ['Title', 'Number', 'Location', 'Type', 'Last Submission Date', 'Link']\n",
    "    __jobs = []\n",
    "    for item in jobs_inners:\n",
    "        __job = []\n",
    "        title = item.find('div', {'class': 'title-container'})\n",
    "        description = (item.find('div', {'class': 'listing-details'})).find_all('div', {'class', 'line'})\n",
    "        link = 'https://careers.boi.org.il/' + (item.find('div', {'class': 'button-container'})).a.get('href')\n",
    "        __job.append(title.h3.text)\n",
    "        __job.append(description[0].find('span', {'class', 'value'}).text.strip())\n",
    "        __job.append(description[1].find('span', {'class', 'value'}).text.strip())\n",
    "        __job.append(description[2].find('span', {'class', 'value'}).text.strip())\n",
    "        __job.append(description[3].find('span', {'class', 'value'}).text.strip())\n",
    "        __job.append(link)\n",
    "        __jobs.append(__job)\n",
    "    _jobs = (jobs_headers, __jobs)\n",
    "    return _jobs\n",
    "    \n",
    "jobs = getJobs()\n",
    "# Headers are in jobs[0]\n",
    "# Jobs are in jobs[1]\n",
    "print(jobs[0]) \n",
    "print('___________________________________________________________________________________________________________________________________________')\n",
    "for t in jobs[1]:\n",
    "    print(t)\n",
    "    print(\"***************************************************************************************************************************************\")\n",
    "    break\n",
    "print(len(jobs[1]))"
   ]
  },
  {
   "cell_type": "code",
   "execution_count": 666,
   "id": "8c2931a4-4487-492c-989e-d5a397a994f1",
   "metadata": {},
   "outputs": [],
   "source": [
    "fileName = 'IsraelBank.csv'\n",
    "with open(fileName, 'w', newline = '', encoding = 'utf-8') as fi:\n",
    "    header = jobs[0]\n",
    "    writer = csv.writer(fi)\n",
    "    writer.writerow(header)\n",
    "    writer.writerows(jobs[1])"
   ]
  },
  {
   "cell_type": "markdown",
   "id": "5b8619a5-8ae8-4a11-a007-aa4841627076",
   "metadata": {},
   "source": [
    "# <ins>_To see all together look at file 'israelBankScraper.py'_</ins>"
   ]
  },
  {
   "cell_type": "markdown",
   "id": "a937ee6c-5c19-46c6-acfe-87a06a1d63fd",
   "metadata": {},
   "source": [
    "### CSV Template"
   ]
  },
  {
   "cell_type": "code",
   "execution_count": null,
   "id": "33054b16-52ba-4ac4-8477-a5e2b777825b",
   "metadata": {},
   "outputs": [],
   "source": [
    "fileName = 'IsraelBank.csv'\n",
    "num_of_rows = (len(abouts[1]) - 1)\n",
    "with open(fileName, 'w', newline = '', encoding = 'utf-8') as fi:\n",
    "    headers = ['About Data']\n",
    "    writer = csv.writer(fi)\n",
    "    writer.writerow(abouts[0])\n",
    "#     writer.writerow(abouts[0])\n",
    "    writer.writerow(abouts[1])"
   ]
  }
 ],
 "metadata": {
  "kernelspec": {
   "display_name": "Python 3",
   "language": "python",
   "name": "python3"
  },
  "language_info": {
   "codemirror_mode": {
    "name": "ipython",
    "version": 3
   },
   "file_extension": ".py",
   "mimetype": "text/x-python",
   "name": "python",
   "nbconvert_exporter": "python",
   "pygments_lexer": "ipython3",
   "version": "3.7.10"
  }
 },
 "nbformat": 4,
 "nbformat_minor": 5
}
